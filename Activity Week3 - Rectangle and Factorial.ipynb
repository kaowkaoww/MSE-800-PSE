{
  "nbformat": 4,
  "nbformat_minor": 0,
  "metadata": {
    "colab": {
      "provenance": [],
      "toc_visible": true,
      "include_colab_link": true
    },
    "kernelspec": {
      "name": "python3",
      "display_name": "Python 3"
    },
    "language_info": {
      "name": "python"
    }
  },
  "cells": [
    {
      "cell_type": "markdown",
      "metadata": {
        "id": "view-in-github",
        "colab_type": "text"
      },
      "source": [
        "<a href=\"https://colab.research.google.com/github/kaowkaoww/MSE-800-PSE/blob/main/Activity%20Week3%20-%20Rectangle%20and%20Factorial.ipynb\" target=\"_parent\"><img src=\"https://colab.research.google.com/assets/colab-badge.svg\" alt=\"Open In Colab\"/></a>"
      ]
    },
    {
      "cell_type": "code",
      "execution_count": null,
      "metadata": {
        "id": "0gSxobtLLDXO",
        "colab": {
          "base_uri": "https://localhost:8080/"
        },
        "outputId": "66f9b502-069d-4349-dcdf-f3908551cffb"
      },
      "outputs": [
        {
          "output_type": "stream",
          "name": "stdout",
          "text": [
            "Enter the length of the rectangle: -30\n",
            "Enter the width of the rectangle: -50\n",
            "\n",
            "--- Result ---\n",
            "Length (abs): 30.0\n",
            "Width (abs): 50.0\n",
            "Area (rounded): 1500.0\n"
          ]
        }
      ],
      "source": [
        "#Activity - function - W3-1\n",
        "\n",
        "#Activity 1: Write a code to use round , abs and square functions to calculate the area of a rectangle land\n",
        "#Try to use both Jupyter Notebook and Py\n",
        "\n",
        "\n",
        "# input\n",
        "length = float(input(\"Enter the length of the rectangle: \"))\n",
        "width = float(input(\"Enter the width of the rectangle: \"))\n",
        "\n",
        "# define function\n",
        "def calculate_area(length, width):\n",
        "    length = abs(length)\n",
        "    width = abs(width)\n",
        "\n",
        "    # calculate area\n",
        "    area = length * width\n",
        "\n",
        "    # round values\n",
        "    rounded_area = round(area, 2)\n",
        "\n",
        "    # show result\n",
        "    print(f\"\\n--- Result ---\")\n",
        "    print(f\"Length (abs): {length}\")\n",
        "    print(f\"Width (abs): {width}\")\n",
        "    print(f\"Area (rounded): {rounded_area}\")\n",
        "\n",
        "# call function\n",
        "calculate_area(length, width)\n"
      ]
    },
    {
      "cell_type": "markdown",
      "source": [
        "# New Section"
      ],
      "metadata": {
        "id": "iTac95xUiYCc"
      }
    },
    {
      "cell_type": "code",
      "source": [
        "#Activity wk3 : Factorial\n",
        "\n",
        "#factorial function\n",
        "def factorial(n):\n",
        "    result = 1\n",
        "    for i in range(1, n + 1):\n",
        "        result *= i\n",
        "    return result\n",
        "\n",
        "#input value\n",
        "number = int(input(\"Enter a number: \"))\n",
        "print(f\"{number}! = {factorial(number)}\")\n"
      ],
      "metadata": {
        "id": "mbK3jqchUmFd",
        "colab": {
          "base_uri": "https://localhost:8080/"
        },
        "outputId": "16a8410b-bb6b-4693-8607-b764dd048912"
      },
      "execution_count": null,
      "outputs": [
        {
          "output_type": "stream",
          "name": "stdout",
          "text": [
            "Enter a number: 4\n",
            "4! = 24\n"
          ]
        }
      ]
    },
    {
      "cell_type": "code",
      "source": [],
      "metadata": {
        "id": "t7wjbREKUmH9"
      },
      "execution_count": null,
      "outputs": []
    },
    {
      "cell_type": "code",
      "source": [],
      "metadata": {
        "id": "xe52iKlTUmKl"
      },
      "execution_count": null,
      "outputs": []
    },
    {
      "cell_type": "code",
      "source": [],
      "metadata": {
        "id": "jdFLOOU6UmNB"
      },
      "execution_count": null,
      "outputs": []
    },
    {
      "cell_type": "code",
      "source": [],
      "metadata": {
        "colab": {
          "base_uri": "https://localhost:8080/"
        },
        "id": "V7oxC7a1UmPf",
        "outputId": "931db208-a46c-4d99-fd85-293646254776"
      },
      "execution_count": null,
      "outputs": [
        {
          "output_type": "execute_result",
          "data": {
            "text/plain": [
              "7"
            ]
          },
          "metadata": {},
          "execution_count": 1
        }
      ]
    },
    {
      "cell_type": "code",
      "source": [],
      "metadata": {
        "id": "1MHCj-qFUmSM"
      },
      "execution_count": null,
      "outputs": []
    },
    {
      "cell_type": "code",
      "source": [],
      "metadata": {
        "id": "X5t32rHEUmUq"
      },
      "execution_count": null,
      "outputs": []
    },
    {
      "cell_type": "code",
      "source": [],
      "metadata": {
        "id": "0dSLpLx9UmdH"
      },
      "execution_count": null,
      "outputs": []
    },
    {
      "cell_type": "code",
      "source": [],
      "metadata": {
        "id": "UVVmdw09G1xs"
      },
      "execution_count": null,
      "outputs": []
    }
  ]
}